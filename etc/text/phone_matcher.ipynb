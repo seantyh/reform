{
 "cells": [
  {
   "cell_type": "code",
   "execution_count": 1,
   "id": "d8c21eba-f5e3-4013-916e-3e441c14d5be",
   "metadata": {},
   "outputs": [],
   "source": [
    "# !pip install pypinyin\n",
    "from pypinyin import lazy_pinyin, Style\n",
    "import re\n",
    "from difflib import SequenceMatcher"
   ]
  },
  {
   "cell_type": "code",
   "execution_count": 2,
   "id": "0cd20ef1-a47e-4a19-8970-062ca63fe2d5",
   "metadata": {},
   "outputs": [],
   "source": [
    "tone_re = re.compile(\"[ˊˇˋ˙]\")\n",
    "\n",
    "class CharPhone:\n",
    "    def __init__(self, ch):\n",
    "        assert len(ch)==1\n",
    "        self.ch = ch\n",
    "        self.zhuyin = lazy_pinyin(ch, style=Style.BOPOMOFO)[0]\n",
    "        self.phones = tone_re.sub(\"\", self.zhuyin)\n",
    "    \n",
    "    def __hash__(self):\n",
    "        return hash(self.phones)\n",
    "    \n",
    "    def __eq__(self, other):        \n",
    "        return self.phones == other.phones\n",
    "    \n",
    "    def __repr__(self):\n",
    "        return f\"<Char: {self.ch} ({self.zhuyin})>\"\n",
    "    \n",
    "    def to_ignore(self):\n",
    "        return not self.ch.strip()"
   ]
  },
  {
   "cell_type": "code",
   "execution_count": 3,
   "id": "46cbf8f1-54a2-4e7a-b9be-2326e964ee50",
   "metadata": {},
   "outputs": [],
   "source": [
    "def char_mapper(text):\n",
    "    return [CharPhone(x) for x in text]"
   ]
  },
  {
   "cell_type": "code",
   "execution_count": 4,
   "id": "ce17beda-fc88-4654-b4fb-69a540c8fb08",
   "metadata": {},
   "outputs": [
    {
     "data": {
      "text/plain": [
       "False"
      ]
     },
     "execution_count": 4,
     "metadata": {},
     "output_type": "execute_result"
    }
   ],
   "source": [
    "CharPhone(\"我\") == CharPhone(\"火\")"
   ]
  },
  {
   "cell_type": "code",
   "execution_count": 5,
   "id": "da9278ef-ed15-4fe8-95ca-7570017143a0",
   "metadata": {},
   "outputs": [
    {
     "data": {
      "text/plain": [
       "True"
      ]
     },
     "execution_count": 5,
     "metadata": {},
     "output_type": "execute_result"
    }
   ],
   "source": [
    "CharPhone(\"我\") == CharPhone(\"窩\")"
   ]
  },
  {
   "cell_type": "code",
   "execution_count": 6,
   "id": "6c16ab31-50c9-4683-acb8-7133f543847b",
   "metadata": {},
   "outputs": [
    {
     "data": {
      "text/plain": [
       "1.0"
      ]
     },
     "execution_count": 6,
     "metadata": {},
     "output_type": "execute_result"
    }
   ],
   "source": [
    "SequenceMatcher(lambda x: x.to_ignore(), char_mapper(\"施氏食獅史\"), char_mapper(\"適施氏適市\")).ratio()"
   ]
  },
  {
   "cell_type": "code",
   "execution_count": 7,
   "id": "b5582896-1219-45e4-af37-d0bb26038e5e",
   "metadata": {},
   "outputs": [
    {
     "data": {
      "text/plain": [
       "0.4"
      ]
     },
     "execution_count": 7,
     "metadata": {},
     "output_type": "execute_result"
    }
   ],
   "source": [
    "SequenceMatcher(lambda x: x==\"\", \"施氏食獅史\", \"適施氏適市\").ratio()"
   ]
  },
  {
   "cell_type": "code",
   "execution_count": null,
   "id": "896af1e5-95d5-46fb-8e96-ff25f6df1d51",
   "metadata": {},
   "outputs": [],
   "source": []
  }
 ],
 "metadata": {
  "kernelspec": {
   "display_name": "Python 3 (ipykernel)",
   "language": "python",
   "name": "python3"
  },
  "language_info": {
   "codemirror_mode": {
    "name": "ipython",
    "version": 3
   },
   "file_extension": ".py",
   "mimetype": "text/x-python",
   "name": "python",
   "nbconvert_exporter": "python",
   "pygments_lexer": "ipython3",
   "version": "3.10.2"
  }
 },
 "nbformat": 4,
 "nbformat_minor": 5
}
