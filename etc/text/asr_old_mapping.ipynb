{
 "cells": [
  {
   "cell_type": "code",
   "execution_count": 1,
   "id": "33955968-10fe-450f-b39d-47ab247c3026",
   "metadata": {},
   "outputs": [],
   "source": [
    "import shutil\n",
    "import subprocess\n",
    "from datetime import timedelta\n",
    "from datetime import datetime\n",
    "from pathlib import Path\n",
    "import json\n",
    "import math"
   ]
  },
  {
   "cell_type": "code",
   "execution_count": 2,
   "id": "cd8c1fc5-661f-4f46-b09b-1a1c9a22e1f8",
   "metadata": {},
   "outputs": [],
   "source": [
    "cmd_templ = \"ffprobe -v error -show_entries format=duration -of default=noprint_wrappers=1:nokey=1\""
   ]
  },
  {
   "cell_type": "code",
   "execution_count": 19,
   "id": "2ae5827e-b0bc-417c-9a63-0f7f740b1581",
   "metadata": {},
   "outputs": [
    {
     "name": "stdout",
     "output_type": "stream",
     "text": [
      "d:\\LangOn\\reform\\legislative_old\\交通\\2021-03-15\\邱志偉-127921.mp4 is not available\n",
      "d:\\LangOn\\reform\\legislative_old\\內政\\2021-03-15\\陳椒華-127940.mp4 is not available\n",
      "d:\\LangOn\\reform\\legislative_old\\司法及法制\\2021-03-15\\賴香伶-127920.mp4 is not available\n",
      "d:\\LangOn\\reform\\legislative_old\\外交及國防\\2021-03-15\\呂玉玲-127919.mp4 is not available\n",
      "d:\\LangOn\\reform\\legislative_old\\教育及文化\\2021-03-15\\楊瓊瓔-127929.mp4 is not available\n",
      "d:\\LangOn\\reform\\legislative_old\\社會福利及衛生環境\\2021-03-17\\陳椒華-128106.mp4 is not available\n",
      "d:\\LangOn\\reform\\legislative_old\\經濟\\2021-03-15\\賴香伶-127944.mp4 is not available\n",
      "d:\\LangOn\\reform\\legislative_old\\財政\\2021-03-15\\江永昌-127912.mp4 is not available\n"
     ]
    }
   ],
   "source": [
    "video_dirs = Path(\"d:/LangOn/reform/legislative_old/\").iterdir()\n",
    "asr_paths = list(Path(\"d:/LangOn/reform/asr_old\").glob(\"*.json\"))\n",
    "new_asr_dir = Path(\"d:/LangOn/reform/asr\")\n",
    "failed = []\n",
    "for committee_dir in video_dirs:\n",
    "    metadata_path = list(committee_dir.glob('**/*.json'))[0]\n",
    "    with metadata_path.open(\"r\", encoding=\"UTF-8\") as fin:\n",
    "        metadata = json.load(fin)\n",
    "    for video_path in committee_dir.glob(\"**/*.mp4\"):\n",
    "        video_length = subprocess.check_output([*cmd_templ.split(), video_path]).decode()\n",
    "        video_length = float(video_length.strip())        \n",
    "        video_id = video_path.stem.split(\"-\")[-1]\n",
    "        video_idx = [idx for (idx, x) in enumerate(metadata)\n",
    "                     if x[\"video_id\"] == video_id][0] - 1\n",
    "        if video_idx < 0:\n",
    "            print(video_path, \"is not available\")\n",
    "            failed.append(video_path.parent / meta_name)\n",
    "            continue\n",
    "        meta_entry = metadata[video_idx]\n",
    "        length_in_meta = datetime.strptime(meta_entry[\"clip_length\"], \"%H:%M:%S\")\n",
    "        length_in_meta = (length_in_meta - datetime(1900,1,1)).seconds\n",
    "        meta_name = \"{}-{}\".format(\n",
    "                    meta_entry[\"speaker\"], meta_entry[\"video_id\"])\n",
    "        if abs(video_length-length_in_meta)<1.:\n",
    "            # print(video_path.name, meta_name, video_length, length_in_meta)        \n",
    "            asr_path = [x for x in asr_paths if video_path.stem in str(x)]\n",
    "            if asr_path:\n",
    "                shutil.copy(asr_path[0], new_asr_dir/(meta_name+\".gasr.json\"))\n",
    "        else:\n",
    "            failed.append(video_path.parent / meta_name)\n",
    "            # print(video_path, \"alignment failed ({},{})\".format(video_length, length_in_meta))    "
   ]
  },
  {
   "cell_type": "code",
   "execution_count": 20,
   "id": "75460446-2331-424c-a440-c3ccd5d91a0d",
   "metadata": {},
   "outputs": [
    {
     "data": {
      "text/plain": [
       "1382"
      ]
     },
     "execution_count": 20,
     "metadata": {},
     "output_type": "execute_result"
    }
   ],
   "source": [
    "Path(\"../../data/aligned_failed.txt\").write_text(\"\\n\".join(str(x) for x in failed), encoding=\"UTF-8\")"
   ]
  },
  {
   "cell_type": "code",
   "execution_count": null,
   "id": "1949a2dd-70b9-418a-a642-293e796e52af",
   "metadata": {},
   "outputs": [],
   "source": []
  }
 ],
 "metadata": {
  "kernelspec": {
   "display_name": "Python 3 (ipykernel)",
   "language": "python",
   "name": "python3"
  },
  "language_info": {
   "codemirror_mode": {
    "name": "ipython",
    "version": 3
   },
   "file_extension": ".py",
   "mimetype": "text/x-python",
   "name": "python",
   "nbconvert_exporter": "python",
   "pygments_lexer": "ipython3",
   "version": "3.10.2"
  }
 },
 "nbformat": 4,
 "nbformat_minor": 5
}
