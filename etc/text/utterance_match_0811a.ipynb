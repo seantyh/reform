{
 "cells": [
  {
   "cell_type": "code",
   "execution_count": 1,
   "id": "65c2fbf4-7a66-468f-906d-6ac5431784b3",
   "metadata": {},
   "outputs": [],
   "source": [
    "#!pip install pypinyin"
   ]
  },
  {
   "cell_type": "code",
   "execution_count": 2,
   "id": "d69bf903-6351-472f-964f-c36d41c3ee4f",
   "metadata": {
    "id": "d69bf903-6351-472f-964f-c36d41c3ee4f"
   },
   "outputs": [],
   "source": [
    "from pathlib import Path\n",
    "import json\n",
    "import re\n",
    "import re\n",
    "from pypinyin import lazy_pinyin, Style\n",
    "from difflib import SequenceMatcher\n",
    "from functools import cache"
   ]
  },
  {
   "cell_type": "code",
   "execution_count": 3,
   "id": "019dc34e-8b40-49b9-9155-1f8188071eab",
   "metadata": {
    "id": "019dc34e-8b40-49b9-9155-1f8188071eab"
   },
   "outputs": [],
   "source": [
    "data_dir = Path(\"../../data\")\n",
    "if not data_dir.exists():\n",
    "    data_dir = Path(\"./\")"
   ]
  },
  {
   "cell_type": "markdown",
   "id": "a15ae9e5",
   "metadata": {},
   "source": [
    "### Metadata"
   ]
  },
  {
   "cell_type": "code",
   "execution_count": 4,
   "id": "6af5a7b4",
   "metadata": {},
   "outputs": [
    {
     "data": {
      "text/plain": [
       "142"
      ]
     },
     "execution_count": 4,
     "metadata": {},
     "output_type": "execute_result"
    }
   ],
   "source": [
    "meta_dir = data_dir / \"metadata\"\n",
    "meta_dir = meta_dir if meta_dir.exists() else data_dir\n",
    "metadatapath = Path(meta_dir).glob('*_metadata.json')\n",
    "metadata = []\n",
    "for file in metadatapath:\n",
    "    data = json.load(file.open(encoding=\"UTF-8\"))\n",
    "    for dic in data:\n",
    "        metadata.append(dic)\n",
    "len(metadata)"
   ]
  },
  {
   "cell_type": "markdown",
   "id": "f5c71e1e",
   "metadata": {},
   "source": [
    "### Asr data"
   ]
  },
  {
   "cell_type": "code",
   "execution_count": 5,
   "id": "42517e2b",
   "metadata": {},
   "outputs": [
    {
     "data": {
      "text/plain": [
       "119"
      ]
     },
     "execution_count": 5,
     "metadata": {},
     "output_type": "execute_result"
    }
   ],
   "source": [
    "\n",
    "asr_dir = data_dir / \"asr\"\n",
    "asr_dir = asr_dir if asr_dir.exists() else data_dir\n",
    "asr_data = {}\n",
    "asrdatapath = Path(asr_dir).glob('*.gasr.json')\n",
    "for file in asrdatapath:\n",
    "    r = re.compile(\"(?<=-)[^.]+\")\n",
    "    i = r.findall(Path(file).name)\n",
    "    videoid = i[0]\n",
    "    asr_data[videoid]=json.load(file.open(encoding=\"UTF-8\"))\n",
    "len(asr_data)"
   ]
  },
  {
   "cell_type": "markdown",
   "id": "03b8a452",
   "metadata": {},
   "source": [
    "### Ans data"
   ]
  },
  {
   "cell_type": "code",
   "execution_count": 6,
   "id": "07bfe6ed",
   "metadata": {},
   "outputs": [],
   "source": [
    "ans_dir = data_dir / \"manual-aligned\"\n",
    "ans_dir = ans_dir if ans_dir.exists() else data_dir\n",
    "anspath = Path(ans_dir).glob('*.utterance.ans.txt')\n",
    "ansdata = {}\n",
    "for file in anspath:\n",
    "    r = re.compile(\"(?<=-)[^.]+\")\n",
    "    i = r.findall(Path(file).name)\n",
    "    videoid = i[0]\n",
    "    ansdata[videoid] = file.read_text().split(\",\")"
   ]
  },
  {
   "cell_type": "markdown",
   "id": "21dab374",
   "metadata": {
    "id": "21dab374"
   },
   "source": [
    "## 轉注音"
   ]
  },
  {
   "cell_type": "code",
   "execution_count": 7,
   "id": "7abf7233",
   "metadata": {
    "id": "7abf7233"
   },
   "outputs": [],
   "source": [
    "tone_re = re.compile(\"[ˊˇˋ˙]\")\n",
    "\n",
    "@cache\n",
    "def pinyin_cache(ch):\n",
    "    return lazy_pinyin(ch, style=Style.BOPOMOFO)[0]\n",
    "\n",
    "class CharPhone:\n",
    "    def __init__(self, ch):\n",
    "        assert len(ch)==1\n",
    "        self.ch = ch\n",
    "        self.zhuyin = pinyin_cache(ch)\n",
    "        self.phones = tone_re.sub(\"\", self.zhuyin)\n",
    "    \n",
    "    def __hash__(self):\n",
    "        return hash(self.phones)\n",
    "    \n",
    "    def __eq__(self, other):        \n",
    "        return self.phones == other.phones\n",
    "    \n",
    "    def __repr__(self):\n",
    "        return f\"<Char: {self.ch} ({self.zhuyin})>\"        \n",
    "\n",
    "def char_mapper(text):\n",
    "    text = re.sub(\"[ \\u3000，。：）（]\", \"\", text)\n",
    "    return [CharPhone(x) for x in text]"
   ]
  },
  {
   "cell_type": "markdown",
   "id": "a1ccb40d-ad70-4f6c-a88a-41f313b0f94f",
   "metadata": {
    "id": "a1ccb40d-ad70-4f6c-a88a-41f313b0f94f",
    "tags": []
   },
   "source": [
    "## Preprocess ASR"
   ]
  },
  {
   "cell_type": "code",
   "execution_count": 8,
   "id": "21c1f021-0e6f-4dc1-a2ae-51dd2e0bba65",
   "metadata": {
    "id": "21c1f021-0e6f-4dc1-a2ae-51dd2e0bba65"
   },
   "outputs": [],
   "source": [
    "from itertools import chain\n",
    "\n",
    "def to_num(x):\n",
    "    return float(x.replace(\"s\", \"\"))\n",
    "\n",
    "def flatten_asr(asr_obj):    \n",
    "    asr_starts = []\n",
    "    asr_ends = []\n",
    "    asr_words = []\n",
    "    for entry_x in asr_obj:\n",
    "        alts = entry_x.get(\"alternatives\", [])\n",
    "        if not alts: continue\n",
    "        words = alts[0].get(\"words\", [])        \n",
    "        asr_starts.extend([\n",
    "            to_num(x[\"startTime\"]) for x in words])\n",
    "        asr_ends.extend([\n",
    "            to_num(x[\"endTime\"]) for x in words])\n",
    "        asr_words.extend([x[\"word\"] for x in words])\n",
    "        \n",
    "    return {\n",
    "        \"starts\": asr_starts,\n",
    "        \"ends\": asr_ends,\n",
    "        \"words\": asr_words\n",
    "    }"
   ]
  },
  {
   "cell_type": "markdown",
   "id": "95474414-4925-4915-8e49-0d7081d687ca",
   "metadata": {
    "id": "95474414-4925-4915-8e49-0d7081d687ca",
    "tags": []
   },
   "source": [
    "## Preprocess 議事錄"
   ]
  },
  {
   "cell_type": "code",
   "execution_count": 9,
   "id": "a12ad282-7872-41cb-843e-970ab4603cf0",
   "metadata": {
    "id": "a12ad282-7872-41cb-843e-970ab4603cf0"
   },
   "outputs": [],
   "source": [
    "import re\n",
    "from itertools import tee\n",
    "def preprocess_transcript(txt):\n",
    "    txt = txt.replace(\"<br />\", \"\")\n",
    "    txt = re.sub(\"(\\n\\d+\\n.+)\", \"\", txt)\n",
    "    txt = re.sub(\"（.+時.+分）\", \"\", txt)\n",
    "    txt = re.split(\"(\\n?.+?：)(?=[^「])\", txt)    \n",
    "    txt = [x.replace(\"\\n\", \"\").strip() for x in txt]\n",
    "    txt = [x for x in txt if x]\n",
    "    txt = [re.split(\"，|。|？|！|；\", x) for x in txt]\n",
    "\n",
    "    y = []\n",
    "    for x in txt:\n",
    "        if re.search(\"(\\n?.+?：)\",x[0]):\n",
    "            y.append(x[0])\n",
    "        else:\n",
    "            x_utter = [i for i in x if i]\n",
    "            y.append(x_utter)\n",
    "\n",
    "    iter_list = [iter(y)] * 2\n",
    "    utterance = [(a,b) for a,b in zip(*iter_list)]\n",
    "    try: utterance = [x for x in utterance if not re.search(\"主席：\", x[0])]\n",
    "    except: pass\n",
    "    #utter = [x for x in utter if not x[0].startswith(\"主席：\")]\n",
    "    return utterance"
   ]
  },
  {
   "cell_type": "code",
   "execution_count": 10,
   "id": "8b139505",
   "metadata": {},
   "outputs": [],
   "source": [
    "#127873\n",
    "txt = [x for x in metadata if x[\"video_id\"]==\"127873\"][0][\"transcript\"]\n",
    "\n",
    "txt = txt.replace(\"<br />\", \"\")\n",
    "txt = re.sub(\"(\\n\\d+\\n.+)\", \"\", txt)\n",
    "txt = re.sub(\"（.+時.+分）\", \"\", txt)\n",
    "txt = re.split(\"(\\n?.+?：)(?=[^「])\", txt)\n",
    "txt = [x.replace(\"\\n\", \"\").strip() for x in txt]\n",
    "txt = [x for x in txt if x]\n",
    "txt = [re.split(\"，|。|？|！|；\", x) for x in txt]\n",
    "\n",
    "y = []\n",
    "for x in txt:\n",
    "    if re.search(\"(\\n?.+?：)\", x[0]):\n",
    "        y.append(x[0])\n",
    "    else:\n",
    "        x_utter = [i for i in x if i]\n",
    "        y.append(x_utter)\n",
    "\n",
    "iter_list = [iter(y)] * 2\n",
    "utterance = [(a,b) for a,b in zip(*iter_list)]\n",
    "try:     \n",
    "    utterance = [x for x in utterance if not re.search(\"主席：\", x[0])]\n",
    "except: pass"
   ]
  },
  {
   "cell_type": "code",
   "execution_count": 11,
   "id": "71d77e05",
   "metadata": {},
   "outputs": [
    {
     "data": {
      "text/plain": [
       "[('魯委員明哲：',\n",
       "  ['我待會會把亂點跟你慢慢說',\n",
       "   '我希望中央的客委會你們也要多用點心',\n",
       "   '世博會我們補助 12 億',\n",
       "   '占 15 億的 80%',\n",
       "   '我們當然相信桃園市政府有這個能力',\n",
       "   '因為過去也辦過一些大型活動',\n",
       "   '如果你不要打「世界」',\n",
       "   '就跟你沒有關係',\n",
       "   '你打「世界客家博覽會」',\n",
       "   '跟你的關係是非常大',\n",
       "   '你想想看',\n",
       "   '如果日本東奧辦不成、辦了很久',\n",
       "   '是東京丟人、還是日本丟人多一點',\n",
       "   '你自己去想這個問題……']),\n",
       " ('楊主任委員長鎮：', ['對', '當然是……']),\n",
       " ('魯委員明哲：',\n",
       "  ['你不要打「世界博覽會」都沒問題喔',\n",
       "   '所以我希望你跟桃園市政府',\n",
       "   '就這件事情要多溝通',\n",
       "   '那這個時間到底誰決定的',\n",
       "   '那天我跟你聊了',\n",
       "   '原本是說明年 7 月 15 日到 9 月 15 日',\n",
       "   '最後的決定到底是什麼',\n",
       "   '你們討論的過程',\n",
       "   '原本是更晚一點',\n",
       "   '後來又往前調整',\n",
       "   '現在又整個往後延一年',\n",
       "   '因為他們在市議會都說',\n",
       "   '是中央決定的',\n",
       "   '那中央決定的',\n",
       "   '我就要注意一下',\n",
       "   '是不是主委你決定的',\n",
       "   '這是第一個問題']),\n",
       " ('楊主任委員長鎮：',\n",
       "  ['就第一個問題',\n",
       "   '剛剛提到的',\n",
       "   '那之所以會往前',\n",
       "   '就是因為那時候外界有質疑說',\n",
       "   '跟選舉那麼靠近',\n",
       "   '會不會被誤會跟選舉有關',\n",
       "   '在臺灣我們常常都在選舉',\n",
       "   '所以辦重大活動常常被附會到政治這個想像空間裡面',\n",
       "   '這當然不是一個好的常態',\n",
       "   '所以那時候我們認為說 OK 是不是可以再往前調',\n",
       "   '所以就有這樣的聲音',\n",
       "   '其實我們是考慮到客觀因素',\n",
       "   '愈靠近選舉的時候',\n",
       "   '整個議題都在選舉',\n",
       "   '大家對於這個博覽會的注意可能會降低',\n",
       "   '所以時候就往前調了'])]"
      ]
     },
     "execution_count": 11,
     "metadata": {},
     "output_type": "execute_result"
    }
   ],
   "source": [
    "utterance[3:7]"
   ]
  },
  {
   "cell_type": "markdown",
   "id": "6414364b",
   "metadata": {},
   "source": [
    "## Ans metric"
   ]
  },
  {
   "cell_type": "code",
   "execution_count": 12,
   "id": "4927ed29",
   "metadata": {},
   "outputs": [],
   "source": [
    "def compute_metric(aligned, ans, tol=3.):\n",
    "    assert len(aligned) == len(ans)\n",
    "    n_correct = 0\n",
    "\n",
    "    for aligned_x, ans_x in zip(aligned, ans):\n",
    "        t = datetime.strptime(ans_x,\"%H:%M:%S\")\n",
    "        ansTD = timedelta(hours=t.hour, minutes=t.minute, seconds=t.second).total_seconds()\n",
    "        alignTD = timedelta(seconds=aligned_x).total_seconds()\n",
    "\n",
    "        error = abs(ansTD-alignTD)\n",
    "\n",
    "        if error < tol:\n",
    "            n_correct += 1\n",
    "    metric = n_correct/len(aligned)\n",
    "    return metric"
   ]
  },
  {
   "cell_type": "markdown",
   "id": "415b12c5",
   "metadata": {
    "id": "415b12c5"
   },
   "source": [
    "## 注音對齊"
   ]
  },
  {
   "cell_type": "code",
   "execution_count": 13,
   "id": "cdeee85c",
   "metadata": {},
   "outputs": [],
   "source": [
    "import json\n",
    "from datetime import datetime, timedelta\n",
    "from difflib import SequenceMatcher\n",
    "import numpy as np\n",
    "import numpy.linalg as la\n",
    "from scipy.stats import poisson, norm\n",
    "import matplotlib.pyplot as plt\n",
    "from tqdm.auto import tqdm"
   ]
  },
  {
   "cell_type": "code",
   "execution_count": 14,
   "id": "4daddd27",
   "metadata": {},
   "outputs": [],
   "source": [
    "\n",
    "def zhuyin_matching(key, wlambda=3, offset=0, win=10, use_weight=True, debug=False):\n",
    "    asr = asr_data[key][\"response\"][\"results\"]\n",
    "    transcript = [x for x in metadata if x[\"video_id\"]==key][0][\"transcript\"]\n",
    "    mdspeaker = [x for x in metadata if x[\"video_id\"]==key][0][\"speaker\"]    \n",
    "    ans = ansdata[key]   # for debug\n",
    "    \n",
    "    flat_asr = flatten_asr(asr)\n",
    "    assert len(flat_asr[\"starts\"]) == len(flat_asr[\"words\"])\n",
    "\n",
    "    turns = preprocess_transcript(transcript)\n",
    "    \n",
    "    asr_words = flat_asr[\"words\"] \n",
    "    asr_starts = flat_asr[\"starts\"]\n",
    "    asr_ends = flat_asr[\"ends\"]\n",
    "\n",
    "    aligned_utterance_start = []\n",
    "    aligned_utterances = []\n",
    "    current_idx = 0\n",
    "    last_utt_len = 0\n",
    "    for turn_x in turns:\n",
    "        aligned_turns = []        \n",
    "        for utterance_x in turn_x[1]:  \n",
    "            probe_len = len(utterance_x)\n",
    "            probe = utterance_x[offset:offset+probe_len]\n",
    "            \n",
    "            ## compute matching scores\n",
    "            scores = np.zeros(len(asr_words))\n",
    "            start_idx = 0\n",
    "            end_idx = len(asr_words)-probe_len\n",
    "            for i in range(start_idx, end_idx):\n",
    "                target = \"\".join(asr_words[i:i+probe_len]) \n",
    "                sm = SequenceMatcher(None,\n",
    "                        char_mapper(probe), char_mapper(target))\n",
    "                scores[i] = sm.ratio()\n",
    "            scores = np.array(scores)                        \n",
    "\n",
    "            ## weighting scores\n",
    "            weight = norm.pdf(np.arange(len(scores)), \n",
    "                              loc=current_idx+last_utt_len,\n",
    "                              scale=10)           \n",
    "            r = np.exp(-len(utterance_x)/wlambda)            \n",
    "            \n",
    "            if use_weight:\n",
    "                weighted_scores = (1-r)*(scores/scores.sum()) + r*weight\n",
    "            else:\n",
    "                weighted_scores = scores             \n",
    "            \n",
    "            ## calculate alignment and update nonlocal variables\n",
    "            align_idx = np.argmax(weighted_scores)                                    \n",
    "            current_idx = align_idx\n",
    "            last_utt_len = len(utterance_x)      \n",
    "            \n",
    "            ## store the results\n",
    "            aligned_turns.append((utterance_x, asr_starts[align_idx]))\n",
    "        aligned_utterances.append((turn_x[0], aligned_turns))\n",
    "    return aligned_utterances"
   ]
  },
  {
   "cell_type": "code",
   "execution_count": 15,
   "id": "46b34c24",
   "metadata": {},
   "outputs": [
    {
     "data": {
      "application/vnd.jupyter.widget-view+json": {
       "model_id": "660e3e53de7647ae8bc670b540093fea",
       "version_major": 2,
       "version_minor": 0
      },
      "text/plain": [
       "  0%|          | 0/2 [00:00<?, ?it/s]"
      ]
     },
     "metadata": {},
     "output_type": "display_data"
    },
    {
     "name": "stdout",
     "output_type": "stream",
     "text": [
      "accuracy:  0.7959183673469388\n"
     ]
    },
    {
     "data": {
      "image/png": "[encoded data removed]",
      "text/plain": [
       "<Figure size 720x216 with 1 Axes>"
      ]
     },
     "metadata": {
      "needs_background": "light"
     },
     "output_type": "display_data"
    }
   ],
   "source": [
    "weights_dbg = []\n",
    "wscores_dbg = []\n",
    "scores_dbg = []\n",
    "probes_dbg = []\n",
    "for key in tqdm([\"128106\", \"127901\"]):\n",
    "    utterances = zhuyin_matching(key, wlambda=3)\n",
    "    utterances_start = [utt_x[1] for utt_x in sum([x[1] for x in utterances], [])]\n",
    "    ans = ansdata[key]    \n",
    "    print(\"accuracy: \", compute_metric(utterances_start, ans, tol=1.5))\n",
    "    \n",
    "    error=[]\n",
    "    for i in range(len(ans)):\n",
    "        ans_dt = datetime.strptime(ans[i], \"%H:%M:%S\")\n",
    "        aligned_dt = datetime(1900,1,1)+timedelta(seconds=utterances_start[i])    \n",
    "        #print(dt(ans_dt), dt(aligned_dt), (ans_dt-aligned_dt).total_seconds())\n",
    "        error.append((ans_dt-aligned_dt).total_seconds())\n",
    "    plt.figure(figsize=(10,3))\n",
    "    plt.ylim(-60,60)\n",
    "    plt.plot(error, marker=\"o\")\n",
    "    plt.hlines(1.5, 0, len(error), color=\"red\")\n",
    "    plt.hlines(-1.5, 0, len(error), color=\"red\")\n",
    "    plt.show()    \n",
    "    break"
   ]
  },
  {
   "cell_type": "code",
   "execution_count": 16,
   "id": "b32185e4-70f7-4426-8315-f499068d9eb7",
   "metadata": {},
   "outputs": [],
   "source": [
    "def post_processing(utterances, debug=False):\n",
    "    nchar = np.cumsum([len(t[0]) for t in sum([x[1] for x in utterances], [])])\n",
    "    t = np.array([t[1] for t in sum([x[1] for x in utterances], [])])\n",
    "    t_post = t.copy()\n",
    "    X = np.vstack([np.ones(len(nchar)), nchar]).T\n",
    "    dbg = []\n",
    "    for idx in np.arange(len(t_post)):\n",
    "        if idx == 0: continue    \n",
    "        t_diff = t_post[idx] - t_post[idx-1]    \n",
    "        if t_diff == 0:\n",
    "            t_post[idx] = t_post[idx-1] + 0.050\n",
    "            continue\n",
    "        elif abs(t_diff) < 20 and t_diff > 0:\n",
    "            continue        \n",
    "\n",
    "        ## interpolate a new value\n",
    "        s = max(0, idx-20)\n",
    "        e = min(len(t_post), idx+20)\n",
    "        cur = idx-s\n",
    "        intX = X[s:e]\n",
    "        intY = t[s:e]\n",
    "        Qx, Rx = la.qr(intX)\n",
    "        betas = la.inv(Rx).dot(Qx.T).dot(intY)    \n",
    "        pred_int = intX.dot(betas)\n",
    "        errors = np.abs(intY - pred_int)\n",
    "        good_points = np.where(errors < 20)[0]\n",
    "        left_idx = good_points[good_points < cur].max()\n",
    "        right_idx = good_points[good_points > cur].min()\n",
    "        m = (intY[right_idx]-intY[left_idx]) / (intX[right_idx][1]-intX[left_idx][1])\n",
    "        interp_val = m * (intX[cur][1]-intX[left_idx][1]) + intY[left_idx]\n",
    "        t_post[idx] = interp_val           \n",
    "        \n",
    "        if debug:\n",
    "            dbg.append({\"cur\": cur, \"s\": s, \"e\": e, \n",
    "                    \"intX\": intX, \"intY\": intY,\n",
    "                    \"pred_int\": pred_int, \"good_points\": good_points,\n",
    "                    \"left_idx\":left_idx, \"right_idx\": right_idx,\n",
    "                    \"interp_val\": interp_val})\n",
    "    post_utterances = []\n",
    "    t_pos = 0\n",
    "    for turn_x in utterances:\n",
    "        post_turn_x = []\n",
    "        for utt_x, offset_x in turn_x[1]:\n",
    "            post_turn_x.append((utt_x, t_post[t_pos]))\n",
    "            t_pos += 1\n",
    "        post_utterances.append((turn_x[0], post_turn_x))\n",
    "        \n",
    "    if debug:\n",
    "        return post_utterances, dbg, {\"nchar\": nchar, \"t\": t, \"t_post\": t_post}\n",
    "    else:\n",
    "        return post_utterances"
   ]
  },
  {
   "cell_type": "code",
   "execution_count": 17,
   "id": "28bb9a98-a704-4896-80b7-c2f97a17060d",
   "metadata": {},
   "outputs": [],
   "source": [
    "post_utterances, dbg, extra = post_processing(utterances, debug=True)"
   ]
  },
  {
   "cell_type": "markdown",
   "id": "4fbb8f1b-b6fc-464c-bf02-4f4aeb41d0bd",
   "metadata": {},
   "source": [
    "## Error analysis after post-processing"
   ]
  },
  {
   "cell_type": "code",
   "execution_count": 18,
   "id": "e83f793d-705b-4d51-b2b2-666ee80a470c",
   "metadata": {},
   "outputs": [
    {
     "name": "stdout",
     "output_type": "stream",
     "text": [
      "accuracy:  0.8061224489795918\n"
     ]
    },
    {
     "data": {
      "image/png": "[encoded data removed]",
      "text/plain": [
       "<Figure size 720x216 with 1 Axes>"
      ]
     },
     "metadata": {
      "needs_background": "light"
     },
     "output_type": "display_data"
    }
   ],
   "source": [
    "utterances_start = [utt_x[1] for utt_x in sum([x[1] for x in post_utterances], [])]\n",
    "ans = ansdata[key]    \n",
    "print(\"accuracy: \", compute_metric(utterances_start, ans, tol=1.5))\n",
    "error=[]\n",
    "\n",
    "for i in range(len(ans)):\n",
    "    ans_dt = datetime.strptime(ans[i], \"%H:%M:%S\")\n",
    "    aligned_dt = datetime(1900,1,1)+timedelta(seconds=utterances_start[i])    \n",
    "    #print(dt(ans_dt), dt(aligned_dt), (ans_dt-aligned_dt).total_seconds())\n",
    "    error.append((ans_dt-aligned_dt).total_seconds())\n",
    "plt.figure(figsize=(10,3))\n",
    "plt.ylim(-60,60)\n",
    "plt.plot(error, marker=\"o\")\n",
    "plt.hlines(1.5, 0, len(error), color=\"red\")\n",
    "plt.hlines(-1.5, 0, len(error), color=\"red\")\n",
    "plt.show()    "
   ]
  },
  {
   "cell_type": "code",
   "execution_count": 19,
   "id": "93c9680a-5500-4155-89d2-50b3a2f9210a",
   "metadata": {},
   "outputs": [
    {
     "data": {
      "text/plain": [
       "[('陳委員椒華：', [('次長', 4.9), ('你有參與疫苗購買嗎', 14.4)]),\n",
       " ('薛次長瑞元：', [('疫苗的購買我略知一二', 15.5)]),\n",
       " ('陳委員椒華：', [('你沒有參與嘛', 17.2)]),\n",
       " ('薛次長瑞元：', [('對', 19.6)]),\n",
       " ('陳委員椒華：',\n",
       "  [('我先提一下樂生這個案子', 23.9),\n",
       "   ('我們知道這是歷史的遺憾', 28.5),\n",
       "   ('所以現在就是希望能好好照顧剩下的院民', 30.9),\n",
       "   ('也希望針對剩下來還住在樂生的院民', 39.5),\n",
       "   ('可以以人權的考量幫他們修繕他們住習慣的地方', 50.2),\n",
       "   ('不要強迫、要求他們搬遷', 63.0),\n",
       "   ('不要病房式的中繼居所', 68.2)]),\n",
       " ('薛次長瑞元：', [('是', 72.1), ('這個部分我們現在正在做', 76.5)]),\n",
       " ('陳委員椒華：',\n",
       "  [('次長這個部分可以做到嗎', 79.1),\n",
       "   ('另外照服員的部分好像有編列 900 萬元預算', 79.14999999999999),\n",
       "   ('但是現在人員好像沒有增加', 83.7),\n",
       "   ('他們的待遇也沒有提升', 86.0),\n",
       "   ('這個部分可以回答一下嗎', 88.0)]),\n",
       " ('薛次長瑞元：', [('跟委員報告', 94.5), ('對於不願意搬到新大樓的院民我們還是原地安置', 95.6)]),\n",
       " ('陳委員椒華：', [('尊重他們嘛', 100.5)]),\n",
       " ('薛次長瑞元：',\n",
       "  [('對', 102.2), ('同時工程在進行當中', 102.25), ('就是修繕、整建、重建都在進行當中', 107.1)]),\n",
       " ('陳委員椒華：', [('希望也能夠符合他們的需求', 113.5), ('在晚年能夠住得安心', 118.7)]),\n",
       " ('薛次長瑞元：', [('包括他們關心的納骨塔我們也都排除障礙在處理當中', 119.67575757575757)]),\n",
       " ('陳委員椒華：',\n",
       "  [('也能夠得到妥適的照顧', 120.1),\n",
       "   ('目前只有 2 名公共照顧服務員', 129.4),\n",
       "   ('次長', 130.32727272727274),\n",
       "   ('這個人力可以增加嗎', 134.5),\n",
       "   ('因為已經有再增加 900 萬元的預算', 137.1),\n",
       "   ('但是到現在還沒有實際去增加這個部分', 140.6)]),\n",
       " ('薛次長瑞元：', [('我們會督促院方聘請照服員', 143.79999999999998)]),\n",
       " ('陳委員椒華：', [('請次長再去詢問一下', 146.2), ('然後給本席一個具體的回應好嗎', 149.3)]),\n",
       " ('薛次長瑞元：', [('好', 151.6)]),\n",
       " ('陳委員椒華：', [('就是希望他們的待遇能夠增加', 152.0), ('然後人數能夠增加', 154.3)]),\n",
       " ('薛次長瑞元：', [('是的', 156.9)]),\n",
       " ('陳委員椒華：',\n",
       "  [('再來是有關 AZ 疫苗', 159.26923076923077),\n",
       "   ('現在的問題是不知道打了有沒有效', 162.5),\n",
       "   ('也不知道安不安全', 166.4),\n",
       "   ('我們看到國外有的是暫緩', 171.6),\n",
       "   ('有的是繼續施打', 173.6),\n",
       "   ('其實我們也沒辦法證明一定沒有風險', 183.1),\n",
       "   ('對不對', 186.2),\n",
       "   ('請問次長', 187.2),\n",
       "   ('我們現在施打疫苗有多少的可接受風險', 188.9),\n",
       "   ('我們有訂這樣的規定嗎', 194.9)]),\n",
       " ('薛次長瑞元：', [('就是可預見的風險', 197.6), ('包括發燒、疼痛等等', 202.8)]),\n",
       " ('陳委員椒華：', [('像這種嚴重的血栓呢', 205.2)]),\n",
       " ('薛次長瑞元：',\n",
       "  [('有關血栓', 207.1),\n",
       "   ('到底這個有沒有關係', 208.1),\n",
       "   ('目前還在調查當中', 210.3),\n",
       "   ('歐盟的部分是明天會開會', 212.4),\n",
       "   ('他們要決定到底這個是不是有關聯', 216.4),\n",
       "   ('第二', 220.9),\n",
       "   ('什麼樣可能的風險因子比較容易引起……', 222.1)]),\n",
       " ('陳委員椒華：', [('衛福部會採納歐盟這邊的決議嗎', 226.4)]),\n",
       " ('薛次長瑞元：',\n",
       "  [('因為大部分靜脈血栓的個案都發生在歐洲', 228.06153846153848),\n",
       "   ('當然我們會參採他們最後的一些建議或者是決議', 230.0)]),\n",
       " ('陳委員椒華：', [('現在這個疫苗是從韓國買的嘛', 243.2)]),\n",
       " ('薛次長瑞元：', [('對', 245.6)]),\n",
       " ('陳委員椒華：', [('請問韓國有這種血栓的案例發生嗎', 245.9)]),\n",
       " ('薛次長瑞元：', [('根據相關報導', 251.2), ('目前只有 1 例', 255.5)]),\n",
       " ('陳委員椒華：', [('所以韓國也有', 257.2)]),\n",
       " ('薛次長瑞元：',\n",
       "  [('有 1 例', 258.7),\n",
       "   ('但是血栓也是本來就會發生的', 260.9),\n",
       "   ('所以是不是打了疫苗', 264.6),\n",
       "   ('他的風險就上升', 267.7),\n",
       "   ('或者是跟平常的比例一樣', 270.1)]),\n",
       " ('陳委員椒華：', [('現在全世界也沒有辦法保證施打兩劑就可以完全免疫', 273.7), ('對不對', 280.5)]),\n",
       " ('薛次長瑞元：', [('當然', 280.61764705882354), ('因為施打完兩劑必須持續再去追蹤', 281.5)]),\n",
       " ('陳委員椒華：', [('所以目前我們也沒有辦法去做這樣的證明', 286.9), ('就是施打兩劑後坐飛機或旅遊等等都是安全的', 293.3)]),\n",
       " ('薛次長瑞元：', [('對', 298.8), ('還沒有辦法達到……', 300.2142857142857)]),\n",
       " ('陳委員椒華：',\n",
       "  [('再請教次長', 301.0),\n",
       "   ('關於疫苗', 303.1),\n",
       "   ('因為都是保密的', 305.6),\n",
       "   ('所以我們不知道採購的價錢合不合理', 307.4),\n",
       "   ('衛福部有沒有訂一個管控機制', 311.4),\n",
       "   ('未來能夠跟國人交代', 314.3),\n",
       "   ('就是針對這樣的採購情形', 318.0)]),\n",
       " ('薛次長瑞元：',\n",
       "  [('我想如果我們拿到疫苗的話', 321.0),\n",
       "   ('這個資訊就會統統對外界來做說明', 323.7),\n",
       "   ('現在是疫苗還沒有拿到手', 327.6),\n",
       "   ('我們擔心因為這樣的資訊揭露出去造成違約而導致疫苗進不來', 331.5)]),\n",
       " ('陳委員椒華：', [('瞭解', 334.7), ('謝謝', 338.9), ('辛苦了', 340.5)]),\n",
       " ('薛次長瑞元：', [('謝謝', 341.4)])]"
      ]
     },
     "execution_count": 19,
     "metadata": {},
     "output_type": "execute_result"
    }
   ],
   "source": [
    "post_utterances"
   ]
  },
  {
   "cell_type": "markdown",
   "id": "3aea4005-c84f-4400-80ea-cbaa44218a9f",
   "metadata": {},
   "source": [
    "## Debugging"
   ]
  },
  {
   "cell_type": "code",
   "execution_count": 20,
   "id": "dd010193-76f5-424f-b05f-f16b2e295bb4",
   "metadata": {},
   "outputs": [],
   "source": [
    "class DebugInfo():\n",
    "    def __init__(self, **kwargs):\n",
    "        for k, v in kwargs.items():\n",
    "            setattr(self, k, v)"
   ]
  },
  {
   "cell_type": "code",
   "execution_count": 21,
   "id": "e3103b92-c859-40e2-931b-4f2f1a20f25d",
   "metadata": {},
   "outputs": [
    {
     "data": {
      "text/plain": [
       "[<matplotlib.lines.Line2D at 0x23645fbdd50>]"
      ]
     },
     "execution_count": 21,
     "metadata": {},
     "output_type": "execute_result"
    },
    {
     "data": {
      "image/png": "[encoded data removed]",
      "text/plain": [
       "<Figure size 432x288 with 1 Axes>"
      ]
     },
     "metadata": {
      "needs_background": "light"
     },
     "output_type": "display_data"
    }
   ],
   "source": [
    "e = DebugInfo(**extra)\n",
    "plt.plot(e.nchar, e.t)\n",
    "plt.plot(e.nchar, e.t_post)"
   ]
  },
  {
   "cell_type": "code",
   "execution_count": 22,
   "id": "4b16b398-1329-496c-9e22-c355d66a8482",
   "metadata": {},
   "outputs": [
    {
     "data": {
      "text/plain": [
       "[<matplotlib.lines.Line2D at 0x2364602b8e0>]"
      ]
     },
     "execution_count": 22,
     "metadata": {},
     "output_type": "execute_result"
    },
    {
     "data": {
      "image/png": "[encoded data removed]",
      "text/plain": [
       "<Figure size 432x288 with 1 Axes>"
      ]
     },
     "metadata": {
      "needs_background": "light"
     },
     "output_type": "display_data"
    }
   ],
   "source": [
    "d = DebugInfo(**dbg[2])\n",
    "plt.plot(d.intX[:,1], d.intY)\n",
    "plt.plot(d.intX[:,1], d.pred_int)\n",
    "plt.axvline(d.intX[d.cur,1], linestyle=\"dashed\")\n",
    "plt.plot(d.intX[d.good_points,1], d.intY[d.good_points], '.', color=\"red\")\n",
    "plt.plot(d.intX[[d.left_idx, d.right_idx], 1], d.intY[[d.left_idx, d.right_idx]], '.', color=\"blue\")\n",
    "plt.plot(d.intX[d.cur,1], d.interp_val, '.', color=\"blue\")"
   ]
  },
  {
   "cell_type": "markdown",
   "id": "174087f2-5405-46ef-86e7-ace2547bfd48",
   "metadata": {},
   "source": [
    "## Write Textgrid"
   ]
  },
  {
   "cell_type": "code",
   "execution_count": 23,
   "id": "6e9df591-8100-4e8c-a05d-300548d8bf03",
   "metadata": {},
   "outputs": [],
   "source": [
    "from praatio import textgrid\n",
    "from itertools import tee"
   ]
  },
  {
   "cell_type": "code",
   "execution_count": 24,
   "id": "1e9b005d-4160-4b05-b161-c076f259eb49",
   "metadata": {},
   "outputs": [],
   "source": [
    "tg = textgrid.Textgrid()\n",
    "utts = sum([x[1] for x in post_utterances], [])\n",
    "entries = []\n",
    "for i in range(len(utts)):\n",
    "    text, start = utts[i]\n",
    "    if i == len(utts)-1:\n",
    "        end = start + 1\n",
    "    else:\n",
    "        end = utts[i+1][1]  # the start of next utt\n",
    "    entries.append((start, end, text))\n",
    "\n",
    "speaker = [(x[0], x[1][0][1]) for x in post_utterances]\n",
    "speaker.append((speaker[-1][0], speaker[-1][1]+1))\n",
    "it_speaker = iter(speaker)\n",
    "a, b = tee(it_speaker)\n",
    "next(b)\n",
    "speaker_entries = [(x[1], y[1], x[0]) for x, y in zip(a, b)]\n",
    "\n",
    "text_tier = textgrid.IntervalTier(\"transcript\", entries)\n",
    "speaker_tier = textgrid.IntervalTier(\"speaker\", speaker_entries)\n",
    "tg.addTier(text_tier)\n",
    "tg.addTier(speaker_tier)\n",
    "tg.save(\"../../data/textgrid/test.TextGrid\", format=\"short_textgrid\", includeBlankSpaces=False)"
   ]
  },
  {
   "cell_type": "code",
   "execution_count": 25,
   "id": "16351d0e-7977-47fe-8dff-23d3088d8a75",
   "metadata": {},
   "outputs": [
    {
     "data": {
      "text/plain": [
       "[(4.9, 15.5, '陳委員椒華：'),\n",
       " (15.5, 17.2, '薛次長瑞元：'),\n",
       " (17.2, 19.6, '陳委員椒華：'),\n",
       " (19.6, 23.9, '薛次長瑞元：'),\n",
       " (23.9, 72.1, '陳委員椒華：'),\n",
       " (72.1, 79.1, '薛次長瑞元：'),\n",
       " (79.1, 94.5, '陳委員椒華：'),\n",
       " (94.5, 100.5, '薛次長瑞元：'),\n",
       " (100.5, 102.2, '陳委員椒華：'),\n",
       " (102.2, 113.5, '薛次長瑞元：'),\n",
       " (113.5, 119.67575757575757, '陳委員椒華：'),\n",
       " (119.67575757575757, 120.1, '薛次長瑞元：'),\n",
       " (120.1, 143.79999999999998, '陳委員椒華：'),\n",
       " (143.79999999999998, 146.2, '薛次長瑞元：'),\n",
       " (146.2, 151.6, '陳委員椒華：'),\n",
       " (151.6, 152.0, '薛次長瑞元：'),\n",
       " (152.0, 156.9, '陳委員椒華：'),\n",
       " (156.9, 159.26923076923077, '薛次長瑞元：'),\n",
       " (159.26923076923077, 197.6, '陳委員椒華：'),\n",
       " (197.6, 205.2, '薛次長瑞元：'),\n",
       " (205.2, 207.1, '陳委員椒華：'),\n",
       " (207.1, 226.4, '薛次長瑞元：'),\n",
       " (226.4, 228.06153846153848, '陳委員椒華：'),\n",
       " (228.06153846153848, 243.2, '薛次長瑞元：'),\n",
       " (243.2, 245.6, '陳委員椒華：'),\n",
       " (245.6, 245.9, '薛次長瑞元：'),\n",
       " (245.9, 251.2, '陳委員椒華：'),\n",
       " (251.2, 257.2, '薛次長瑞元：'),\n",
       " (257.2, 258.7, '陳委員椒華：'),\n",
       " (258.7, 273.7, '薛次長瑞元：'),\n",
       " (273.7, 280.61764705882354, '陳委員椒華：'),\n",
       " (280.61764705882354, 286.9, '薛次長瑞元：'),\n",
       " (286.9, 298.8, '陳委員椒華：'),\n",
       " (298.8, 301.0, '薛次長瑞元：'),\n",
       " (301.0, 321.0, '陳委員椒華：'),\n",
       " (321.0, 334.7, '薛次長瑞元：'),\n",
       " (334.7, 341.4, '陳委員椒華：'),\n",
       " (341.4, 342.4, '薛次長瑞元：')]"
      ]
     },
     "execution_count": 25,
     "metadata": {},
     "output_type": "execute_result"
    }
   ],
   "source": [
    "speaker_entries"
   ]
  },
  {
   "cell_type": "code",
   "execution_count": null,
   "id": "a981eef5-4600-46c4-9523-1329849788ef",
   "metadata": {},
   "outputs": [],
   "source": []
  }
 ],
 "metadata": {
  "colab": {
   "name": "zhuyin_matching.ipynb",
   "provenance": []
  },
  "kernelspec": {
   "display_name": "Python 3 (ipykernel)",
   "language": "python",
   "name": "python3"
  },
  "language_info": {
   "codemirror_mode": {
    "name": "ipython",
    "version": 3
   },
   "file_extension": ".py",
   "mimetype": "text/x-python",
   "name": "python",
   "nbconvert_exporter": "python",
   "pygments_lexer": "ipython3",
   "version": "3.10.2"
  }
 },
 "nbformat": 4,
 "nbformat_minor": 5
}
