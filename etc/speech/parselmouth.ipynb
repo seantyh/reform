{
 "cells": [
  {
   "cell_type": "code",
   "execution_count": 2,
   "id": "e7db3a56-a8a7-47c0-bb01-738165e552f8",
   "metadata": {},
   "outputs": [],
   "source": [
    "import parselmouth\n",
    "import numpy as np\n",
    "import matplotlib.pyplot as plt\n",
    "import seaborn as sns"
   ]
  },
  {
   "cell_type": "code",
   "execution_count": 3,
   "id": "be1b028c-9202-4239-83dc-2e7e96e481be",
   "metadata": {},
   "outputs": [],
   "source": [
    "plt.rcParams['figure.dpi'] = 100"
   ]
  },
  {
   "cell_type": "code",
   "execution_count": 4,
   "id": "c335bc59-4916-4a77-8190-26e18f068099",
   "metadata": {},
   "outputs": [],
   "source": [
    "snd = parselmouth.Sound(\"d:/Langon/reform/legvid/劉櫂豪-127903.mp3\")"
   ]
  },
  {
   "cell_type": "code",
   "execution_count": 5,
   "id": "08e35e72-05b8-43f6-8dd5-0f0a2fce0f69",
   "metadata": {},
   "outputs": [
    {
     "data": {
      "text/plain": [
       "(2, 30993935)"
      ]
     },
     "execution_count": 5,
     "metadata": {},
     "output_type": "execute_result"
    }
   ],
   "source": [
    "snd.values.shape"
   ]
  },
  {
   "cell_type": "code",
   "execution_count": 76,
   "id": "0e442145-439a-450b-87ce-5aa593dfa91d",
   "metadata": {},
   "outputs": [],
   "source": [
    "intensity = snd.to_intensity()\n",
    "pitch = snd.to_pitch_ac()\n",
    "formant = snd.to_formant_burg()"
   ]
  },
  {
   "cell_type": "code",
   "execution_count": 121,
   "id": "67c0996a-c58e-4fa8-83f1-db2b78c9a693",
   "metadata": {},
   "outputs": [],
   "source": [
    "pitch = snd.to_pitch_ac(pitch_ceiling=500)\n",
    "# pitch = pitch.smooth()"
   ]
  },
  {
   "cell_type": "code",
   "execution_count": 122,
   "id": "de0cacf6-c780-414c-acc9-142e0642228d",
   "metadata": {},
   "outputs": [],
   "source": [
    "t0, t1 = snd.get_start_time(), snd.get_end_time()\n",
    "delta = 0.01\n",
    "ts = np.arange(t0, t1, delta)\n",
    "int_values = [intensity.get_value(t) for t in ts]\n",
    "pitch_values = [pitch.get_value_at_time(t) for t in ts]\n",
    "f1_values = [formant.get_value_at_time(1,t) for t in ts]\n",
    "f2_values = [formant.get_value_at_time(2,t) for t in ts]\n",
    "f3_values = [formant.get_value_at_time(3,t) for t in ts]"
   ]
  },
  {
   "cell_type": "code",
   "execution_count": 123,
   "id": "e8428b70-4dd9-41e9-bcf2-45fe4272add7",
   "metadata": {},
   "outputs": [
    {
     "data": {
      "text/plain": [
       "318.67323664499037"
      ]
     },
     "execution_count": 123,
     "metadata": {},
     "output_type": "execute_result"
    }
   ],
   "source": [
    "pitch.get_value_at_time(58.866450)"
   ]
  },
  {
   "cell_type": "code",
   "execution_count": 127,
   "id": "675c91aa-e028-4247-9638-45a751969fce",
   "metadata": {},
   "outputs": [
    {
     "data": {
      "text/plain": [
       "[<matplotlib.lines.Line2D at 0x15d81a51de0>]"
      ]
     },
     "execution_count": 127,
     "metadata": {},
     "output_type": "execute_result"
    },
    {
     "data": {
      "image/png": "[encoded data removed]",
      "text/plain": [
       "<Figure size 800x400 with 1 Axes>"
      ]
     },
     "metadata": {
      "needs_background": "light"
     },
     "output_type": "display_data"
    }
   ],
   "source": [
    "s, o = 6805,6828\n",
    "plt.figure(figsize=(8,4))\n",
    "plt.plot(ts[s:o], pitch_values[s:o])\n",
    "plt.plot(ts[s:o], f1_values[s:o])\n"
   ]
  },
  {
   "cell_type": "code",
   "execution_count": null,
   "id": "98d3ebc0-f77d-46a3-b728-e15195d5b7c7",
   "metadata": {},
   "outputs": [],
   "source": []
  },
  {
   "cell_type": "code",
   "execution_count": null,
   "id": "dd874482-373d-4e6f-921f-b6c3b18e3f37",
   "metadata": {},
   "outputs": [],
   "source": []
  }
 ],
 "metadata": {
  "kernelspec": {
   "display_name": "Python 3 (ipykernel)",
   "language": "python",
   "name": "python3"
  },
  "language_info": {
   "codemirror_mode": {
    "name": "ipython",
    "version": 3
   },
   "file_extension": ".py",
   "mimetype": "text/x-python",
   "name": "python",
   "nbconvert_exporter": "python",
   "pygments_lexer": "ipython3",
   "version": "3.10.2"
  }
 },
 "nbformat": 4,
 "nbformat_minor": 5
}
