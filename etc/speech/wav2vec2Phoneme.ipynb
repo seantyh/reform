{
 "cells": [
  {
   "cell_type": "code",
   "execution_count": null,
   "id": "6c36a57d-7a47-4ae0-9fac-87e57845edd3",
   "metadata": {},
   "outputs": [],
   "source": [
    "# in ubuntu linux / colab\n",
    "# apt install espeak-ng"
   ]
  },
  {
   "cell_type": "code",
   "execution_count": 1,
   "id": "e5d4e95d-cb6e-432d-b18a-1907e81b080f",
   "metadata": {},
   "outputs": [
    {
     "name": "stdout",
     "output_type": "stream",
     "text": [
      "env: PHONEMIZER_ESPEAK_LIBRARY=C:/Program Files/eSpeak NG/libespeak-ng.dll\n"
     ]
    }
   ],
   "source": [
    "# in windows, after installing espeak\n",
    "# %env PHONEMIZER_ESPEAK_LIBRARY=C:/Program Files/eSpeak NG/libespeak-ng.dll"
   ]
  },
  {
   "cell_type": "code",
   "execution_count": 2,
   "id": "d79fb7ab-39ae-4c8f-830a-60dfbf83666f",
   "metadata": {},
   "outputs": [],
   "source": [
    "from transformers import Wav2Vec2Processor, Wav2Vec2ForCTC\n",
    "import torch\n",
    "\n",
    "# load model and processor\n",
    "processor = Wav2Vec2Processor.from_pretrained(\"facebook/wav2vec2-xlsr-53-espeak-cv-ft\")\n",
    "model = Wav2Vec2ForCTC.from_pretrained(\"facebook/wav2vec2-xlsr-53-espeak-cv-ft\")\n"
   ]
  },
  {
   "cell_type": "code",
   "execution_count": 3,
   "id": "91e540e7-a797-4bf1-a084-f85628676091",
   "metadata": {},
   "outputs": [],
   "source": [
    "from pydub import AudioSegment"
   ]
  },
  {
   "cell_type": "code",
   "execution_count": 4,
   "id": "4aade082-424b-4667-83c9-1195b7c4090c",
   "metadata": {},
   "outputs": [],
   "source": [
    "mp3 = AudioSegment.from_mp3(\"高金素梅-127888.mp3\")"
   ]
  },
  {
   "cell_type": "code",
   "execution_count": 38,
   "id": "a0fc76cc-ea91-4d5c-b33f-b0a1a7789d76",
   "metadata": {},
   "outputs": [],
   "source": [
    "t_start = 66372\n",
    "t_end = 67506"
   ]
  },
  {
   "cell_type": "code",
   "execution_count": 39,
   "id": "591256fb-7aad-4b71-85f9-98d898c3731c",
   "metadata": {},
   "outputs": [],
   "source": [
    "seg = mp3[t_start:t_end]"
   ]
  },
  {
   "cell_type": "code",
   "execution_count": 40,
   "id": "b0ab105f-d16a-4dbc-aa60-5d66821e29fc",
   "metadata": {},
   "outputs": [
    {
     "data": {
      "text/html": [
       "\n",
       "                    <audio controls>\n",
       "                        <source src=\"data:audio/mpeg;base64,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\" type=\"audio/mpeg\"/>\n",
       "                        Your browser does not support the audio element.\n",
       "                    </audio>\n",
       "                  "
      ],
      "text/plain": [
       "<pydub.audio_segment.AudioSegment at 0x1e4215e22c0>"
      ]
     },
     "execution_count": 40,
     "metadata": {},
     "output_type": "execute_result"
    }
   ],
   "source": [
    "seg"
   ]
  },
  {
   "cell_type": "code",
   "execution_count": 41,
   "id": "03b4b6bd-1a00-4039-a5e8-d48bbba27640",
   "metadata": {},
   "outputs": [],
   "source": [
    "import numpy as np\n",
    "samples = seg.get_array_of_samples()\n",
    "wav = np.array(samples).astype(np.float32)\n",
    "wav /= np.iinfo(samples.typecode).max\n"
   ]
  },
  {
   "cell_type": "code",
   "execution_count": 42,
   "id": "32992976-9010-41ab-b935-b702e35670f6",
   "metadata": {},
   "outputs": [
    {
     "data": {
      "text/plain": [
       "[<matplotlib.lines.Line2D at 0x1e42cab42e0>]"
      ]
     },
     "execution_count": 42,
     "metadata": {},
     "output_type": "execute_result"
    },
    {
     "data": {
      "image/png": "[encoded data removed]",
      "text/plain": [
       "<Figure size 720x216 with 1 Axes>"
      ]
     },
     "metadata": {
      "needs_background": "light"
     },
     "output_type": "display_data"
    }
   ],
   "source": [
    "import matplotlib.pyplot as plt\n",
    "plt.figure(figsize=(10,3))\n",
    "plt.plot(wav)"
   ]
  },
  {
   "cell_type": "code",
   "execution_count": 43,
   "id": "d33ce0c2-a35b-42fb-a10d-1624b74956c9",
   "metadata": {},
   "outputs": [],
   "source": [
    "# tokenize\n",
    "input_values = processor(wav, return_tensors=\"pt\", sampling_rate=16000).input_values"
   ]
  },
  {
   "cell_type": "code",
   "execution_count": 44,
   "id": "4534d9ac-cee9-45b3-bbe8-a7626dbf2dcd",
   "metadata": {},
   "outputs": [],
   "source": [
    "# retrieve logits\n",
    "with torch.no_grad():\n",
    "    logits = model(input_values).logits\n",
    "\n",
    "# take argmax and decode\n",
    "predicted_ids = torch.argmax(logits, dim=-1)\n",
    "transcription = processor.batch_decode(predicted_ids)"
   ]
  },
  {
   "cell_type": "code",
   "execution_count": 45,
   "id": "ed5611ed-0466-41ed-aa72-ff7b82762fd8",
   "metadata": {},
   "outputs": [
    {
     "data": {
      "text/plain": [
       "torch.Size([1, 56, 392])"
      ]
     },
     "execution_count": 45,
     "metadata": {},
     "output_type": "execute_result"
    }
   ],
   "source": [
    "logits.shape"
   ]
  },
  {
   "cell_type": "code",
   "execution_count": 68,
   "id": "2deb536f-0750-4f3c-9a1a-1a2f101d6888",
   "metadata": {},
   "outputs": [
    {
     "data": {
      "text/plain": [
       "20.25"
      ]
     },
     "execution_count": 68,
     "metadata": {},
     "output_type": "execute_result"
    }
   ],
   "source": [
    "(t_end-t_start)/logits.shape[1]"
   ]
  },
  {
   "cell_type": "code",
   "execution_count": 46,
   "id": "7365446b-1398-4318-90f9-d0411ac3f960",
   "metadata": {},
   "outputs": [
    {
     "data": {
      "text/plain": [
       "[(66512, 'p'),\n",
       " (66552, 'aɪ'),\n",
       " (66692, 'j'),\n",
       " (66752, 'i.5'),\n",
       " (66812, 'n'),\n",
       " (66972, 'p'),\n",
       " (67012, 'a5'),\n",
       " (67072, 'n'),\n",
       " (67092, 'n'),\n",
       " (67172, 'ɕ'),\n",
       " (67232, 'ə5'),\n",
       " (67312, 'n')]"
      ]
     },
     "execution_count": 46,
     "metadata": {},
     "output_type": "execute_result"
    }
   ],
   "source": [
    "[(x, processor.tokenizer.convert_ids_to_tokens([y])[0]) \n",
    "     for x, y\n",
    "     in zip((torch.arange(0, predicted_ids.shape[1])*20+t_start).tolist(),\n",
    "            predicted_ids.squeeze().tolist())\n",
    "     if y>0\n",
    "]"
   ]
  },
  {
   "cell_type": "code",
   "execution_count": 56,
   "id": "5485ba3e-7959-47f4-805c-8021e1aa76d6",
   "metadata": {},
   "outputs": [
    {
     "data": {
      "text/plain": [
       "torch.Size([1, 56, 392])"
      ]
     },
     "execution_count": 56,
     "metadata": {},
     "output_type": "execute_result"
    }
   ],
   "source": [
    "logits.shape"
   ]
  },
  {
   "cell_type": "code",
   "execution_count": 57,
   "id": "d2a08ad8-a57c-4527-9311-ba108cc40527",
   "metadata": {},
   "outputs": [],
   "source": [
    "probs = logits.softmax(-1)"
   ]
  },
  {
   "cell_type": "code",
   "execution_count": 67,
   "id": "b8ca560b-d4d6-4ce6-9ff6-dcb75f05c484",
   "metadata": {},
   "outputs": [
    {
     "data": {
      "text/plain": [
       "<StemContainer object of 3 artists>"
      ]
     },
     "execution_count": 67,
     "metadata": {},
     "output_type": "execute_result"
    },
    {
     "data": {
      "image/png": "[encoded data removed]",
      "text/plain": [
       "<Figure size 432x288 with 1 Axes>"
      ]
     },
     "metadata": {
      "needs_background": "light"
     },
     "output_type": "display_data"
    }
   ],
   "source": [
    "plt.stem(probs[:,1:, 18].squeeze())"
   ]
  },
  {
   "cell_type": "code",
   "execution_count": 47,
   "id": "ba0b5920-692c-4fae-9d89-f3775fe3b9a5",
   "metadata": {},
   "outputs": [
    {
     "data": {
      "text/plain": [
       "tensor([[  0,   0,   0,   0,   0,   0,   0,  18,   0,  37,   0,   0,   0,   0,\n",
       "           0,   0,  24,   0,   0,  99,   0,   0,   4,   0,   0,   0,   0,   0,\n",
       "           0,   0,  18,   0, 106,   0,   0,   4,   4,   0,   0,   0,  74,   0,\n",
       "           0, 116,   0,   0,   0,   4,   0,   0,   0,   0,   0,   0,   0,   0]])"
      ]
     },
     "execution_count": 47,
     "metadata": {},
     "output_type": "execute_result"
    }
   ],
   "source": [
    "predicted_ids"
   ]
  },
  {
   "cell_type": "code",
   "execution_count": 49,
   "id": "8532f5cd-1a12-4414-aad5-0db212f28ad4",
   "metadata": {},
   "outputs": [
    {
     "data": {
      "text/plain": [
       "0.02"
      ]
     },
     "execution_count": 49,
     "metadata": {},
     "output_type": "execute_result"
    }
   ],
   "source": [
    "320/16000"
   ]
  },
  {
   "cell_type": "code",
   "execution_count": 192,
   "id": "79f30572-79a0-40bc-aee7-12c64a4ee155",
   "metadata": {},
   "outputs": [],
   "source": [
    "out = model(input_values)"
   ]
  },
  {
   "cell_type": "code",
   "execution_count": 193,
   "id": "9a1564fc-8cf0-4674-a420-b6eaec9890e7",
   "metadata": {},
   "outputs": [
    {
     "data": {
      "text/plain": [
       "CausalLMOutput(loss=None, logits=tensor([[[  6.5516,  -4.7698,  -4.6840,  ...,  -4.3950,  -4.2148,  -4.4213],\n",
       "         [  8.5175,  -6.5321,  -6.6265,  ...,  -6.5256,  -6.3116,  -6.5706],\n",
       "         [  7.7808,  -7.0124,  -7.2176,  ...,  -7.2911,  -6.9038,  -7.2796],\n",
       "         ...,\n",
       "         [ 12.6380,  -9.9215, -10.1857,  ...,  -9.6787,  -9.6122,  -9.6653],\n",
       "         [ 12.9695, -10.2098, -10.4549,  ...,  -9.8959,  -9.9244,  -9.9514],\n",
       "         [ 12.4993,  -9.7779, -10.0130,  ...,  -9.5481,  -9.5398,  -9.5490]]],\n",
       "       grad_fn=<AddBackward0>), hidden_states=None, attentions=None)"
      ]
     },
     "execution_count": 193,
     "metadata": {},
     "output_type": "execute_result"
    }
   ],
   "source": [
    "out"
   ]
  },
  {
   "cell_type": "code",
   "execution_count": 179,
   "id": "2463d96d-2ad2-4884-a615-8a911058931d",
   "metadata": {},
   "outputs": [
    {
     "data": {
      "text/plain": [
       "torch.Size([1, 512, 1])"
      ]
     },
     "execution_count": 179,
     "metadata": {},
     "output_type": "execute_result"
    }
   ],
   "source": [
    "model.wav2vec2.feature_extractor(torch.ones((1,400))).shape"
   ]
  },
  {
   "cell_type": "code",
   "execution_count": 180,
   "id": "ea243cff-76ca-4876-8809-465150ec1b35",
   "metadata": {},
   "outputs": [
    {
     "data": {
      "text/plain": [
       "0.025"
      ]
     },
     "execution_count": 180,
     "metadata": {},
     "output_type": "execute_result"
    }
   ],
   "source": [
    "400/16000"
   ]
  },
  {
   "cell_type": "code",
   "execution_count": null,
   "id": "4300d2ea-8f1d-4004-8c02-b7815e316a22",
   "metadata": {},
   "outputs": [],
   "source": []
  }
 ],
 "metadata": {
  "kernelspec": {
   "display_name": "Python 3 (ipykernel)",
   "language": "python",
   "name": "python3"
  },
  "language_info": {
   "codemirror_mode": {
    "name": "ipython",
    "version": 3
   },
   "file_extension": ".py",
   "mimetype": "text/x-python",
   "name": "python",
   "nbconvert_exporter": "python",
   "pygments_lexer": "ipython3",
   "version": "3.10.2"
  }
 },
 "nbformat": 4,
 "nbformat_minor": 5
}
