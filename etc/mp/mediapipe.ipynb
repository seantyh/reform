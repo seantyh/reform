{
 "cells": [
  {
   "cell_type": "code",
   "execution_count": 11,
   "id": "f3d1b95b-1208-4c27-9ea4-c026044a4eac",
   "metadata": {},
   "outputs": [],
   "source": [
    "import numpy as np\n",
    "import cv2\n",
    "import matplotlib.pyplot as plt\n",
    "import mediapipe as mp\n",
    "import pickle\n",
    "from pathlib import Path\n",
    "from mediapipe.framework.formats import landmark_pb2\n",
    "from mediapipe.framework.formats import detection_pb2"
   ]
  },
  {
   "cell_type": "code",
   "execution_count": 41,
   "id": "ed1b1f70-7bab-4250-a3e3-0ca9c6bea39a",
   "metadata": {},
   "outputs": [],
   "source": [
    "mp_face = mp.solutions.face_detection\n",
    "mp_pose = mp.solutions.pose\n",
    "mp_mesh = mp.solutions.face_mesh\n",
    "mp_drawing = mp.solutions.drawing_utils\n",
    "mp_drawing_styles = mp.solutions.drawing_styles"
   ]
  },
  {
   "cell_type": "code",
   "execution_count": 6,
   "id": "57fd51d4-28f8-4cbc-a27e-cef5d3247d7d",
   "metadata": {},
   "outputs": [],
   "source": [
    "def draw_meshes(image, face_landmarks):    \n",
    "    for face_landmarks in results.multi_face_landmarks:\n",
    "        mp_drawing.draw_landmarks(\n",
    "            image=image,\n",
    "            landmark_list=face_landmarks,\n",
    "            connections=mp_mesh.FACEMESH_TESSELATION,\n",
    "            landmark_drawing_spec=None,\n",
    "            connection_drawing_spec=mp_drawing_styles\n",
    "            .get_default_face_mesh_tesselation_style())\n",
    "        mp_drawing.draw_landmarks(\n",
    "            image=image,\n",
    "            landmark_list=face_landmarks,\n",
    "            connections=mp_mesh.FACEMESH_CONTOURS,\n",
    "            landmark_drawing_spec=None,\n",
    "            connection_drawing_spec=mp_drawing_styles\n",
    "            .get_default_face_mesh_contours_style())\n",
    "        mp_drawing.draw_landmarks(\n",
    "            image=image,\n",
    "            landmark_list=face_landmarks,\n",
    "            connections=mp_mesh.FACEMESH_IRISES,\n",
    "            landmark_drawing_spec=None,\n",
    "            connection_drawing_spec=mp_drawing_styles\n",
    "            .get_default_face_mesh_iris_connections_style())"
   ]
  },
  {
   "cell_type": "code",
   "execution_count": 65,
   "id": "78ab05e8-94f4-4792-b73e-e65ed4e12ec2",
   "metadata": {},
   "outputs": [],
   "source": [
    "def draw_faces(image, results):\n",
    "    if results.detections is None:\n",
    "        return\n",
    "    for detection in results.detections:\n",
    "        mp_drawing.draw_detection(image, detection)\n",
    "    \n",
    "def draw_pose(image, results_list):\n",
    "    if results.pose_landmarks is None:\n",
    "        return\n",
    "    for results_x in results_list:\n",
    "        mp_drawing.draw_landmarks(\n",
    "            image,\n",
    "            results_x.pose_landmarks,\n",
    "            mp_pose.POSE_CONNECTIONS,\n",
    "            landmark_drawing_spec=mp_drawing_styles.get_default_pose_landmarks_style())\n"
   ]
  },
  {
   "cell_type": "code",
   "execution_count": 12,
   "id": "1339d144-7d06-435d-b46c-e58080ec3e7a",
   "metadata": {},
   "outputs": [],
   "source": [
    "\n",
    "with Path(\"李昆澤-127844.mp.pkl\").open(\"rb\") as fin:\n",
    "    data = pickle.load(fin)"
   ]
  },
  {
   "cell_type": "code",
   "execution_count": 15,
   "id": "8ac0d767-8036-467c-a789-af4aa5249830",
   "metadata": {},
   "outputs": [],
   "source": [
    "results = data[\"results\"]\n",
    "r0 = results[0]"
   ]
  },
  {
   "cell_type": "code",
   "execution_count": 54,
   "id": "38d76682-1485-4a53-8136-5e0691c23524",
   "metadata": {},
   "outputs": [],
   "source": [
    "nose_tips = []\n",
    "timestamps = []\n",
    "for r in results:\n",
    "    timestamps.append(r[\"offset\"])\n",
    "    if r[\"faces\"] is not None:\n",
    "        coord = r[\"faces\"][0][\"locationData\"][\"relativeKeypoints\"][mp_face.FaceKeyPoint.NOSE_TIP]\n",
    "        if coord[\"x\"] < 0.5:\n",
    "            nose_tips.append(coord[\"x\"])\n",
    "        else:\n",
    "            nose_tips.append(float('nan'))\n",
    "    else:\n",
    "        nose_tips.append(float('nan'))"
   ]
  },
  {
   "cell_type": "code",
   "execution_count": 55,
   "id": "b4e95966-3b82-4288-a77f-b86c8d67336f",
   "metadata": {},
   "outputs": [
    {
     "data": {
      "text/plain": [
       "[<matplotlib.lines.Line2D at 0x1a394ab5810>]"
      ]
     },
     "execution_count": 55,
     "metadata": {},
     "output_type": "execute_result"
    },
    {
     "data": {
      "image/png": "[encoded data removed]",
      "text/plain": [
       "<Figure size 432x288 with 1 Axes>"
      ]
     },
     "metadata": {
      "needs_background": "light"
     },
     "output_type": "display_data"
    }
   ],
   "source": [
    "plt.plot(timestamps, nose_tips)"
   ]
  },
  {
   "cell_type": "code",
   "execution_count": 17,
   "id": "4a2e02ce-b394-4694-b182-b5ad280f7e3d",
   "metadata": {},
   "outputs": [
    {
     "data": {
      "text/plain": [
       "[{'labelId': [0],\n",
       "  'score': [0.8385279],\n",
       "  'locationData': {'format': 'RELATIVE_BOUNDING_BOX',\n",
       "   'relativeBoundingBox': {'xmin': 0.39817378,\n",
       "    'ymin': 0.25460476,\n",
       "    'width': 0.060357004,\n",
       "    'height': 0.10728711},\n",
       "   'relativeKeypoints': [{'x': 0.4177008, 'y': 0.2855839},\n",
       "    {'x': 0.43779722, 'y': 0.28821146},\n",
       "    {'x': 0.42759553, 'y': 0.3139112},\n",
       "    {'x': 0.43005848, 'y': 0.3352611},\n",
       "    {'x': 0.4107674, 'y': 0.2964601},\n",
       "    {'x': 0.45826685, 'y': 0.2985037}]}}]"
      ]
     },
     "execution_count": 17,
     "metadata": {},
     "output_type": "execute_result"
    }
   ],
   "source": [
    "r0[\"faces\"]"
   ]
  },
  {
   "cell_type": "code",
   "execution_count": 6,
   "id": "ae4b0a59-51d9-4ac3-994a-970ef5cec566",
   "metadata": {},
   "outputs": [
    {
     "data": {
      "text/plain": [
       "{1: 2, 3: 4}"
      ]
     },
     "execution_count": 6,
     "metadata": {},
     "output_type": "execute_result"
    }
   ],
   "source": [
    "a = {1:2}\n",
    "b = {3:4}\n",
    "{**a, **b}"
   ]
  },
  {
   "cell_type": "markdown",
   "id": "d66dc047-67f5-43a9-b295-06ead849a778",
   "metadata": {},
   "source": [
    "## Main loop"
   ]
  },
  {
   "cell_type": "code",
   "execution_count": 1,
   "id": "29a55d22-481b-4460-8ee1-bcd0aee88550",
   "metadata": {},
   "outputs": [
    {
     "ename": "NameError",
     "evalue": "name 'cv2' is not defined",
     "output_type": "error",
     "traceback": [
      "\u001b[1;31m---------------------------------------------------------------------------\u001b[0m",
      "\u001b[1;31mNameError\u001b[0m                                 Traceback (most recent call last)",
      "Input \u001b[1;32mIn [1]\u001b[0m, in \u001b[0;36m<cell line: 1>\u001b[1;34m()\u001b[0m\n\u001b[1;32m----> 1\u001b[0m cap \u001b[38;5;241m=\u001b[39m \u001b[43mcv2\u001b[49m\u001b[38;5;241m.\u001b[39mVideoCapture(\u001b[38;5;124m\"\u001b[39m\u001b[38;5;124m李昆澤-127844.mp4\u001b[39m\u001b[38;5;124m\"\u001b[39m)\n\u001b[0;32m      2\u001b[0m fps \u001b[38;5;241m=\u001b[39m cap\u001b[38;5;241m.\u001b[39mget(cv2\u001b[38;5;241m.\u001b[39mCAP_PROP_FPS)\n\u001b[0;32m      3\u001b[0m n_frames \u001b[38;5;241m=\u001b[39m cap\u001b[38;5;241m.\u001b[39mget(cv2\u001b[38;5;241m.\u001b[39mCAP_PROP_FRAME_COUNT)\n",
      "\u001b[1;31mNameError\u001b[0m: name 'cv2' is not defined"
     ]
    }
   ],
   "source": [
    "cap = cv2.VideoCapture(\"李昆澤-127844.mp4\")\n",
    "fps = cap.get(cv2.CAP_PROP_FPS)\n",
    "n_frames = cap.get(cv2.CAP_PROP_FRAME_COUNT)\n",
    "width = cap.get(cv2.CAP_PROP_FRAME_WIDTH)\n",
    "height = cap.get(cv2.CAP_PROP_FRAME_HEIGHT)\n",
    "# cap.set(cv2.CAP_PROP_POS_FRAMES, 1000)\n",
    "pbar = tqdm(total=n_frames)\n",
    "static_image_mode = False\n",
    "face_detection = mp_face.FaceDetection(model_selection=1, min_detection_confidence=0.5)\n",
    "face_mesh = mp_mesh.FaceMesh(static_image_mode=static_image_mode, \n",
    "                              max_num_faces=3, refine_landmarks=True,\n",
    "                              min_detection_confidence=0.5, \n",
    "                              min_tracking_confidence=0.5)\n",
    "pose = mp_pose.Pose(static_image_mode=static_image_mode, \n",
    "                    model_complexity=1, \n",
    "                    enable_segmentation=True,\n",
    "                    min_detection_confidence=0.5)\n",
    "frame_counter = 0\n",
    "\n",
    "results_list = []\n",
    "\n",
    "while cap.isOpened():    \n",
    "        \n",
    "    success, image = cap.read()            \n",
    "    if not success:\n",
    "        print(\"Ignoring empty camera frame.\")\n",
    "        # If loading a video, use 'break' instead of 'continue'.\n",
    "        break\n",
    "    pbar.update(1)        \n",
    "    \n",
    "    frame_idx = cap.get(cv2.CAP_PROP_POS_FRAMES)\n",
    "    ## sampling every 5 frame\n",
    "    if frame_idx % 5 > 0:        \n",
    "        continue    \n",
    "    \n",
    "    image.flags.writeable = False\n",
    "    image = cv2.cvtColor(image, cv2.COLOR_BGR2RGB)        \n",
    "    \n",
    "    if static_image_mode:        \n",
    "        ## make an image copy for visualization\n",
    "        raw_image = image.copy()\n",
    "    \n",
    "    ## This is always true for multi-pose detection\n",
    "    image.flags.writeable = True\n",
    "    \n",
    "    ## mediapipe processing\n",
    "    face_results = face_detection.process(image)\n",
    "    mesh_results = face_mesh.process(image)\n",
    "    \n",
    "    pose_results_list = []\n",
    "    if face_results.detections:\n",
    "        n_face = len(face_results.detections)\n",
    "    else:\n",
    "        n_face = 0\n",
    "        \n",
    "    for _ in range(n_face):\n",
    "        pose_results = pose.process(image)\n",
    "        pose_results_list.append(pose_results)\n",
    "        if pose_results.segmentation_mask is not None:\n",
    "            image = mask_people(image, pose_results.segmentation_mask)\n",
    "        \n",
    "    # Draw the face detection annotations on the image.\n",
    "    # image = cv2.cvtColor(image, cv2.COLOR_RGB2BGR)\n",
    "    \n",
    "    if static_image_mode:\n",
    "        draw_faces(raw_image, face_results)\n",
    "        draw_meshes(raw_image, mesh_results)\n",
    "        draw_pose(raw_image, pose_results_list)\n",
    "        break\n",
    "        \n",
    "    faces_dict = protobuf_to_dict(face_results.detections)\n",
    "    mesh_dict = protobuf_to_dict(mesh_results.multi_face_landmarks)\n",
    "    poses_dict_list = [protobuf_to_dict(x.pose_landmarks) for x in p]\n",
    "    results_list.append({\n",
    "        \"frame\": frame_idx, \n",
    "        \"offset\": frame_idx/fps,\n",
    "        \"faces\": faces_dict,\n",
    "        \"mesh\": mesh_dict,\n",
    "        \"poses\": poses_dict_list})\n",
    "    \n",
    "cap.release()\n",
    "face_mesh.close()\n",
    "face_detection.close()\n",
    "pose.close()\n",
    "pbar.close()"
   ]
  },
  {
   "cell_type": "markdown",
   "id": "2becf649-c712-428f-b422-8452859d2372",
   "metadata": {},
   "source": [
    "```\n",
    "## just reading frames: 2s/1000 frame\n",
    "## detecting faces: 5s/1000 frame\n",
    "## detecting meshes: 7s/1000 frame\n",
    "## pose (w/ segmentation, model=2): 74s/1000 frame\n",
    "## pose (w/o segmentation, model=2): 71s/1000 frame\n",
    "## pose (w/ segmentation, model=1): 27s/1000 frame\n",
    "## detect (short-ranged), mesh, pose(model=2): 83s/1000 frame\n",
    "## detect (full-ranged), mesh, pose(model=2): 86s/1000 frame\n",
    "## detect (full-ranged), mesh, pose(model=1): 40s/1000 frame\n",
    "```"
   ]
  },
  {
   "cell_type": "code",
   "execution_count": 69,
   "id": "64b113bb-748a-4ba1-8ca7-665aee79ebba",
   "metadata": {},
   "outputs": [
    {
     "ename": "NameError",
     "evalue": "name 'raw_image' is not defined",
     "output_type": "error",
     "traceback": [
      "\u001b[1;31m---------------------------------------------------------------------------\u001b[0m",
      "\u001b[1;31mNameError\u001b[0m                                 Traceback (most recent call last)",
      "Input \u001b[1;32mIn [69]\u001b[0m, in \u001b[0;36m<cell line: 2>\u001b[1;34m()\u001b[0m\n\u001b[0;32m      1\u001b[0m plt\u001b[38;5;241m.\u001b[39mfigure(figsize\u001b[38;5;241m=\u001b[39m(\u001b[38;5;241m1280\u001b[39m\u001b[38;5;241m/\u001b[39m\u001b[38;5;241m72\u001b[39m,\u001b[38;5;241m720\u001b[39m\u001b[38;5;241m/\u001b[39m\u001b[38;5;241m72\u001b[39m))\n\u001b[1;32m----> 2\u001b[0m plt\u001b[38;5;241m.\u001b[39mimshow(\u001b[43mraw_image\u001b[49m)\n",
      "\u001b[1;31mNameError\u001b[0m: name 'raw_image' is not defined"
     ]
    },
    {
     "data": {
      "text/plain": [
       "<Figure size 1280x720 with 0 Axes>"
      ]
     },
     "metadata": {},
     "output_type": "display_data"
    }
   ],
   "source": [
    "plt.figure(figsize=(1280/72,720/72))\n",
    "plt.imshow(raw_image)"
   ]
  },
  {
   "cell_type": "code",
   "execution_count": 70,
   "id": "bb912b7e-0a0c-4116-afd2-27322b7f3821",
   "metadata": {},
   "outputs": [],
   "source": [
    "from pathlib import Path\n",
    "import pickle\n",
    "with Path(\"temp_mediapipe_out.pkl\").open(\"wb\") as fout:\n",
    "    pickle.dump(results_list, fout)"
   ]
  },
  {
   "cell_type": "code",
   "execution_count": 9,
   "id": "87cd5104-cae5-4e33-90af-93c513c6a139",
   "metadata": {},
   "outputs": [
    {
     "data": {
      "text/plain": [
       "'v220617.211805'"
      ]
     },
     "execution_count": 9,
     "metadata": {},
     "output_type": "execute_result"
    }
   ],
   "source": [
    "from datetime import datetime\n",
    "datetime.now().strftime(\"v%y%m%d.%H%M%S\")"
   ]
  },
  {
   "cell_type": "code",
   "execution_count": 13,
   "id": "958450a8-3c99-41cb-90ee-6df7ae89eb9d",
   "metadata": {},
   "outputs": [],
   "source": []
  },
  {
   "cell_type": "code",
   "execution_count": null,
   "id": "18f4303a-c36d-4942-98f3-3d9259cfeda7",
   "metadata": {},
   "outputs": [],
   "source": []
  }
 ],
 "metadata": {
  "kernelspec": {
   "display_name": "Python 3 (ipykernel)",
   "language": "python",
   "name": "python3"
  },
  "language_info": {
   "codemirror_mode": {
    "name": "ipython",
    "version": 3
   },
   "file_extension": ".py",
   "mimetype": "text/x-python",
   "name": "python",
   "nbconvert_exporter": "python",
   "pygments_lexer": "ipython3",
   "version": "3.10.2"
  }
 },
 "nbformat": 4,
 "nbformat_minor": 5
}
